{
 "cells": [
  {
   "cell_type": "code",
   "execution_count": 6,
   "metadata": {},
   "outputs": [
    {
     "name": "stdout",
     "output_type": "stream",
     "text": [
      "Nothing\n"
     ]
    }
   ],
   "source": [
    "import re\n",
    "\n",
    "txt = input()\n",
    "\n",
    "x = re.findall(\"a.*b\", txt)\n",
    "\n",
    "if(x):\n",
    "    print(\"Find\")\n",
    "else:\n",
    "    print(\"Nothing\")"
   ]
  },
  {
   "cell_type": "code",
   "execution_count": null,
   "metadata": {},
   "outputs": [
    {
     "name": "stdout",
     "output_type": "stream",
     "text": [
      "['abbb']\n"
     ]
    }
   ],
   "source": [
    "txt = input()\n",
    "\n",
    "x = re.findall(\"^ab{2,3}$\", txt)\n",
    "\n",
    "if(x):\n",
    "    print(\"Find\")\n",
    "else:\n",
    "    print(\"Nothing\")"
   ]
  },
  {
   "cell_type": "code",
   "execution_count": null,
   "metadata": {},
   "outputs": [],
   "source": [
    "txt = input()\n",
    "\n",
    "x = re.findall(\"\\\\b[a-z]+_[a-z]+\\\\b\", txt)\n",
    "\n",
    "if(x):\n",
    "    print(\"Find\")\n",
    "else:\n",
    "    print(\"Nothing\")"
   ]
  },
  {
   "cell_type": "code",
   "execution_count": null,
   "metadata": {},
   "outputs": [],
   "source": [
    "txt = input()\n",
    "\n",
    "x = re.findall(\"[A-Z][a-z]+\", txt)\n",
    "\n",
    "if(x):\n",
    "    print(\"Find\")\n",
    "else:\n",
    "    print(\"Nothing\")"
   ]
  },
  {
   "cell_type": "code",
   "execution_count": null,
   "metadata": {},
   "outputs": [],
   "source": [
    "txt = input()\n",
    "\n",
    "x = re.findall(\"^a.*b$\", txt)\n",
    "\n",
    "if(x):\n",
    "    print(\"Find\")\n",
    "else:\n",
    "    print(\"Nothing\")"
   ]
  },
  {
   "cell_type": "code",
   "execution_count": 7,
   "metadata": {},
   "outputs": [
    {
     "name": "stdout",
     "output_type": "stream",
     "text": [
      "Write:a:code::that::can:do:everything:\n"
     ]
    }
   ],
   "source": [
    "txt = input()\n",
    "\n",
    "x = re.sub(\"[ ,.]\", \":\", txt)\n",
    "\n",
    "print(x)"
   ]
  },
  {
   "cell_type": "code",
   "execution_count": 13,
   "metadata": {},
   "outputs": [
    {
     "name": "stdout",
     "output_type": "stream",
     "text": [
      "KazybekAndYedigeAreWorkingTogether\n"
     ]
    }
   ],
   "source": [
    "txt = input()\n",
    "\n",
    "words = txt.split(\"_\")\n",
    "\n",
    "x = words[0] + ''.join(word.capitalize() for word in words[1:])\n",
    "\n",
    "print(x)"
   ]
  },
  {
   "cell_type": "code",
   "execution_count": 10,
   "metadata": {},
   "outputs": [
    {
     "name": "stdout",
     "output_type": "stream",
     "text": [
      "['', 'Y', 'Y', 'G', 'Difhsiihsie', 'I', 'U', 'F', 'S', 'I', 'F']\n"
     ]
    }
   ],
   "source": [
    "txt = input()\n",
    "\n",
    "x = re.split(\"(?=[A-Z])\", txt)\n",
    "\n",
    "print(x)"
   ]
  },
  {
   "cell_type": "code",
   "execution_count": 11,
   "metadata": {},
   "outputs": [
    {
     "name": "stdout",
     "output_type": "stream",
     "text": [
      "H D B Abuuifsho O H I O S H Hisjdvo\n"
     ]
    }
   ],
   "source": [
    "txt = input()\n",
    "\n",
    "x = re.sub(\"(?<!^)(?=[A-Z])\", \" \", txt)\n",
    "\n",
    "print(x)"
   ]
  },
  {
   "cell_type": "code",
   "execution_count": 12,
   "metadata": {},
   "outputs": [
    {
     "name": "stdout",
     "output_type": "stream",
     "text": [
      "camel_case_words\n"
     ]
    }
   ],
   "source": [
    "txt = input()\n",
    "\n",
    "x = re.sub(\"(?<!^)(?=[A-Z])\", \"_\", txt).lower()\n",
    "\n",
    "print(x)"
   ]
  }
 ],
 "metadata": {
  "kernelspec": {
   "display_name": "Python 3",
   "language": "python",
   "name": "python3"
  },
  "language_info": {
   "codemirror_mode": {
    "name": "ipython",
    "version": 3
   },
   "file_extension": ".py",
   "mimetype": "text/x-python",
   "name": "python",
   "nbconvert_exporter": "python",
   "pygments_lexer": "ipython3",
   "version": "3.10.4"
  }
 },
 "nbformat": 4,
 "nbformat_minor": 2
}

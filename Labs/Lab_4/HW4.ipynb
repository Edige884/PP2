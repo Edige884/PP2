{
 "cells": [
  {
   "cell_type": "code",
   "execution_count": 29,
   "metadata": {},
   "outputs": [
    {
     "name": "stdout",
     "output_type": "stream",
     "text": [
      "Today: 02/11/25\n",
      "5 days ago: 02/06/25\n"
     ]
    }
   ],
   "source": [
    "import datetime\n",
    "\n",
    "x = datetime.datetime.now()\n",
    "y = datetime.datetime(x.year, x.month, x.day - 5)\n",
    "print(\"Today:\", x.strftime(\"%x\"))\n",
    "print(\"5 days ago:\", y.strftime(\"%x\"))"
   ]
  },
  {
   "cell_type": "code",
   "execution_count": null,
   "metadata": {},
   "outputs": [
    {
     "name": "stdout",
     "output_type": "stream",
     "text": [
      "Yesterday: 02/10/25\n",
      "Today: 02/11/25\n",
      "Tomorrow: 02/12/25\n"
     ]
    }
   ],
   "source": [
    "Today = datetime.datetime.now()\n",
    "Yesterday = datetime.datetime(Today.year, Today.month, Today.day - 1)\n",
    "Tomorrow = datetime.datetime(Today.year, Today.month, Today.day + 1)\n",
    "\n",
    "print(\"Yesterday:\", Yesterday.strftime(\"%x\"))\n",
    "print(\"Today:\", Today.strftime(\"%x\"))\n",
    "print(\"Tomorrow:\", Tomorrow.strftime(\"%x\"))"
   ]
  },
  {
   "cell_type": "code",
   "execution_count": null,
   "metadata": {},
   "outputs": [
    {
     "name": "stdout",
     "output_type": "stream",
     "text": [
      "02/11/25 16:42:37\n"
     ]
    }
   ],
   "source": [
    "Today = datetime.datetime.now()\n",
    "\n",
    "print(Today.strftime(\"%x\"), Today.strftime(\"%X\"))"
   ]
  },
  {
   "cell_type": "code",
   "execution_count": null,
   "metadata": {},
   "outputs": [
    {
     "name": "stdout",
     "output_type": "stream",
     "text": [
      "Difference in seconds: 90866.467315\n"
     ]
    }
   ],
   "source": [
    "date1 = datetime.datetime.now()\n",
    "date2 = datetime.datetime(2025, 2, 12, 18, 00, 00)\n",
    "\n",
    "difference = date2 - date1\n",
    "\n",
    "difference_in_seconds = difference.total_seconds()\n",
    "\n",
    "print(\"Difference in seconds:\", difference_in_seconds)\n"
   ]
  },
  {
   "cell_type": "code",
   "execution_count": 41,
   "metadata": {},
   "outputs": [
    {
     "name": "stdout",
     "output_type": "stream",
     "text": [
      "Input degree: 15.0\n",
      "Output radian: 0.261799\n"
     ]
    }
   ],
   "source": [
    "import math\n",
    "\n",
    "a = float(input())\n",
    "\n",
    "print(\"Input degree:\", a)\n",
    "\n",
    "radian = a * math.pi / 180\n",
    "\n",
    "print(\"Output radian:\", round(radian, 6))"
   ]
  },
  {
   "cell_type": "code",
   "execution_count": 47,
   "metadata": {},
   "outputs": [
    {
     "name": "stdout",
     "output_type": "stream",
     "text": [
      "Height: 5\n",
      "Base, first value: 5\n",
      "Base, second value: 6\n",
      "Area of a trapezoid: 27.5\n"
     ]
    }
   ],
   "source": [
    "Height, Base1, Base2 = map(float, input().split())\n",
    "\n",
    "print(\"Height:\", int(Height))\n",
    "print(\"Base, first value:\", int(Base1))\n",
    "print(\"Base, second value:\", int(Base2))\n",
    "\n",
    "Area = (Base1 + Base2) * Height / 2\n",
    "\n",
    "print(\"Area of a trapezoid:\", Area)"
   ]
  },
  {
   "cell_type": "code",
   "execution_count": 55,
   "metadata": {},
   "outputs": [
    {
     "name": "stdout",
     "output_type": "stream",
     "text": [
      "Number of sides: 4\n",
      "Lenght of a side: 25.0\n",
      "The area of the polygon is: 625\n"
     ]
    }
   ],
   "source": [
    "n = int(input())\n",
    "a = float(input())\n",
    "\n",
    "print(\"Number of sides:\", n)\n",
    "print(\"Lenght of a side:\", a)\n",
    "\n",
    "ap = 4 * math.tan(math.pi / n)\n",
    "\n",
    "area = (n * a**2) / ap\n",
    "\n",
    "print(\"The area of the polygon is:\", round(area))"
   ]
  },
  {
   "cell_type": "code",
   "execution_count": 1,
   "metadata": {},
   "outputs": [
    {
     "name": "stdout",
     "output_type": "stream",
     "text": [
      "Length of base: 5\n",
      "Height of parallelogram: 6\n",
      "Area of parallelogram: 30\n"
     ]
    }
   ],
   "source": [
    "Length, Height = map(int, input().split())\n",
    "\n",
    "print(\"Length of base:\", Length)\n",
    "print(\"Height of parallelogram:\", Height)\n",
    "\n",
    "print(\"Area of parallelogram:\", Length * Height)"
   ]
  },
  {
   "cell_type": "code",
   "execution_count": null,
   "metadata": {},
   "outputs": [
    {
     "name": "stdout",
     "output_type": "stream",
     "text": [
      "1\n",
      "4\n",
      "9\n",
      "16\n",
      "25\n"
     ]
    }
   ],
   "source": [
    "def square(N):\n",
    "    for i in range(1, N + 1):\n",
    "        yield i ** 2\n",
    "\n",
    "N = int(input())\n",
    "for i in square(N):\n",
    "    print(i)\n"
   ]
  },
  {
   "cell_type": "code",
   "execution_count": 57,
   "metadata": {},
   "outputs": [
    {
     "name": "stdout",
     "output_type": "stream",
     "text": [
      "0\n",
      "2\n",
      "4\n",
      "6\n",
      "8\n",
      "10\n",
      "12\n",
      "14\n",
      "16\n",
      "18\n",
      "20\n"
     ]
    }
   ],
   "source": [
    "def Even_nums(N):\n",
    "    for i in range(0, N + 1, 2):\n",
    "        yield i\n",
    "\n",
    "N = int(input())\n",
    "for i in Even_nums(N):\n",
    "    print(i)"
   ]
  },
  {
   "cell_type": "code",
   "execution_count": 58,
   "metadata": {},
   "outputs": [
    {
     "name": "stdout",
     "output_type": "stream",
     "text": [
      "0\n",
      "12\n",
      "24\n",
      "36\n",
      "48\n"
     ]
    }
   ],
   "source": [
    "def divisor(n):\n",
    "    for num in range(0, n + 1):\n",
    "        if num % 3 == 0 and num % 4 == 0:\n",
    "            yield num\n",
    "\n",
    "n = int(input())\n",
    "for number in divisor(n):\n",
    "    print(number)"
   ]
  },
  {
   "cell_type": "code",
   "execution_count": 59,
   "metadata": {},
   "outputs": [
    {
     "name": "stdout",
     "output_type": "stream",
     "text": [
      "4\n",
      "9\n",
      "16\n",
      "25\n",
      "36\n"
     ]
    }
   ],
   "source": [
    "def square(N, M):\n",
    "    for i in range(N, M + 1):\n",
    "        yield i ** 2\n",
    "\n",
    "N, M = map(int, input().split())\n",
    "for i in square(N, M):\n",
    "    print(i)"
   ]
  },
  {
   "cell_type": "code",
   "execution_count": 61,
   "metadata": {},
   "outputs": [
    {
     "name": "stdout",
     "output_type": "stream",
     "text": [
      "5\n",
      "4\n",
      "3\n",
      "2\n",
      "1\n",
      "0\n"
     ]
    }
   ],
   "source": [
    "def Even_nums(N):\n",
    "    for i in range(N, -1, -1):\n",
    "        yield i\n",
    "\n",
    "N = int(input())\n",
    "for i in Even_nums(N):\n",
    "    print(i)"
   ]
  },
  {
   "cell_type": "code",
   "execution_count": 2,
   "metadata": {},
   "outputs": [
    {
     "name": "stdout",
     "output_type": "stream",
     "text": [
      "Interface Status\n",
      "================================================================================\n",
      "DN                                                 Description           Speed    MTU\n",
      "-------------------------------------------------- --------------------  ------  -----\n",
      "topology/pod-1/node-201/sys/phys-[eth1/33]                              inherit    9150      \n",
      "topology/pod-1/node-201/sys/phys-[eth1/34]                              inherit    9150      \n",
      "topology/pod-1/node-201/sys/phys-[eth1/35]                              inherit    9150      \n",
      "topology/pod-1/node-201/sys/phys-[eth1/36]                              inherit    9150      \n",
      "topology/pod-1/node-201/sys/phys-[eth1/1]                               inherit    9150      \n",
      "topology/pod-1/node-201/sys/phys-[eth1/2]                               inherit    9150      \n",
      "topology/pod-1/node-201/sys/phys-[eth1/3]                               inherit    9150      \n",
      "topology/pod-1/node-201/sys/phys-[eth1/4]                               inherit    9150      \n",
      "topology/pod-1/node-201/sys/phys-[eth1/5]                               inherit    9150      \n",
      "topology/pod-1/node-201/sys/phys-[eth1/6]                               inherit    9150      \n",
      "topology/pod-1/node-201/sys/phys-[eth1/7]                               inherit    9150      \n",
      "topology/pod-1/node-201/sys/phys-[eth1/8]                               inherit    9150      \n",
      "topology/pod-1/node-201/sys/phys-[eth1/9]                               inherit    9150      \n",
      "topology/pod-1/node-201/sys/phys-[eth1/10]                              inherit    9150      \n",
      "topology/pod-1/node-201/sys/phys-[eth1/11]                              inherit    9150      \n",
      "topology/pod-1/node-201/sys/phys-[eth1/12]                              inherit    9150      \n",
      "topology/pod-1/node-201/sys/phys-[eth1/13]                              inherit    9150      \n",
      "topology/pod-1/node-201/sys/phys-[eth1/14]                              inherit    9150      \n"
     ]
    }
   ],
   "source": [
    "import json\n",
    "\n",
    "with open(\"sample-data.json\") as f:\n",
    "    data = json.load(f)\n",
    "\n",
    "print(\"Interface Status\")\n",
    "print(\"=\" * 80)\n",
    "print(\"DN                                                 Description           Speed    MTU\")\n",
    "print(\"-------------------------------------------------- --------------------  ------  -----\")\n",
    "\n",
    "for item in data[\"imdata\"]:\n",
    "    attributes = item[\"l1PhysIf\"][\"attributes\"]\n",
    "    print(\"{:<50} {:<20} {:<10} {:<10}\".format(\n",
    "        attributes[\"dn\"],\n",
    "        attributes.get(\"descr\", \"\"),\n",
    "        attributes[\"speed\"],\n",
    "        attributes[\"mtu\"]\n",
    "    ))"
   ]
  }
 ],
 "metadata": {
  "kernelspec": {
   "display_name": "Python 3",
   "language": "python",
   "name": "python3"
  },
  "language_info": {
   "codemirror_mode": {
    "name": "ipython",
    "version": 3
   },
   "file_extension": ".py",
   "mimetype": "text/x-python",
   "name": "python",
   "nbconvert_exporter": "python",
   "pygments_lexer": "ipython3",
   "version": "3.10.4"
  }
 },
 "nbformat": 4,
 "nbformat_minor": 2
}

{
 "cells": [
  {
   "cell_type": "code",
   "execution_count": 1,
   "metadata": {},
   "outputs": [
    {
     "name": "stdout",
     "output_type": "stream",
     "text": [
      "JOHN\n"
     ]
    }
   ],
   "source": [
    "class Tstring:\n",
    "    def __init__(self,input):\n",
    "        self.input=input\n",
    "    def getString(self):\n",
    "        print(self.input)\n",
    "    def printString(self):\n",
    "        print(self.input.upper())\n",
    "\n",
    "x=Tstring(\"John\")\n",
    "x.printString()"
   ]
  },
  {
   "cell_type": "code",
   "execution_count": 3,
   "metadata": {},
   "outputs": [
    {
     "name": "stdout",
     "output_type": "stream",
     "text": [
      "input is: 5\n",
      "area of square with your length is: 25\n"
     ]
    }
   ],
   "source": [
    "class Shape:\n",
    "    def __init__(self,length):\n",
    "        self.length=length\n",
    "        pass\n",
    "    def area(self):\n",
    "        return 0\n",
    "    \n",
    "class Square(Shape):\n",
    "    def __init__(self, length):\n",
    "        super().__init__(length)\n",
    "    def area(self):\n",
    "        return self.length ** 2\n",
    "\n",
    "a=int(input())\n",
    "print(\"input is:\",a)\n",
    "b=Square(a)\n",
    "print(\"area of square with your length is:\",b.area())"
   ]
  },
  {
   "cell_type": "code",
   "execution_count": 4,
   "metadata": {},
   "outputs": [
    {
     "name": "stdout",
     "output_type": "stream",
     "text": [
      "input is: 6 4\n",
      "area of square with your length is: 24\n"
     ]
    }
   ],
   "source": [
    "class Shape:\n",
    "    def __init__(self,length):\n",
    "        self.length=length\n",
    "        pass\n",
    "    def area(self):\n",
    "        return 0\n",
    "\n",
    "class Rectangle(Shape):\n",
    "    def __init__(self, length,width):\n",
    "        super().__init__(length)\n",
    "        self.width=width\n",
    "    def area(self):\n",
    "        return self.length*self.width\n",
    "    \n",
    "a=int(input())\n",
    "b=int(input())\n",
    "print(\"input is:\",a,b)\n",
    "c=Rectangle(a,b)\n",
    "print(\"area of square with your length is:\",c.area())"
   ]
  },
  {
   "cell_type": "code",
   "execution_count": 5,
   "metadata": {},
   "outputs": [
    {
     "name": "stdout",
     "output_type": "stream",
     "text": [
      "(2:3)\n",
      "(7:5)\n",
      "5.0\n"
     ]
    }
   ],
   "source": [
    "import math\n",
    "class Points:\n",
    "    def __init__(self,x,y):\n",
    "        self.x=x\n",
    "        self.y=y\n",
    "    def show(self):\n",
    "        print(f\"({self.x}:{self.y})\")\n",
    "    def move(self,moved_x,moved_y):\n",
    "        self.x=moved_x\n",
    "        self.y=moved_y\n",
    "    def dist(self,other_point):\n",
    "        print(math.sqrt((self.x - other_point.x)**2 + (self.y-other_point.y)**2))\n",
    "\n",
    "x=int(input()) # 2\n",
    "y=int(input()) # 3\n",
    "p1=Points(x,y)\n",
    "p1.show()\n",
    "p1.move(7,5)\n",
    "p1.show()\n",
    "p2=Points(3,2)\n",
    "p1.dist(p2)"
   ]
  },
  {
   "cell_type": "code",
   "execution_count": 6,
   "metadata": {},
   "outputs": [
    {
     "name": "stdout",
     "output_type": "stream",
     "text": [
      "10000\n",
      "12000\n",
      "John you dont have enough money, at this moment in your bank accaunt 12000\n",
      "8000\n",
      "0\n",
      "4000\n",
      "4000\n"
     ]
    }
   ],
   "source": [
    "class Account: #основной счет\n",
    "    def __init__(self,owner,balance):\n",
    "        self.owner=owner\n",
    "        self.balance=balance\n",
    "        self.other_balance=0\n",
    "    def show_balance(self):\n",
    "        print(self.balance)\n",
    "    def deposit(self,dep):\n",
    "        self.balance+=dep\n",
    "    def withdraw(self,draw):\n",
    "        if(draw-self.balance>0):\n",
    "            print(self.owner,\"you dont have enough money, at this moment in your bank accaunt\",self.balance)\n",
    "        else:\n",
    "            self.balance-=draw\n",
    "    def other_deposit(self,how_much):\n",
    "        if(how_much-self.balance>0):\n",
    "            print(self.owner,\"you dont have enough money in main balance, at this moment in your bank accaunt\",self.balance)\n",
    "        else:\n",
    "            self.balance-=how_much\n",
    "            self.other_balance+=how_much\n",
    "    def show_other_balance(self):\n",
    "        print(self.other_balance)\n",
    "\n",
    "danny=Account(\"John\",10000)\n",
    "danny.show_balance()\n",
    "danny.deposit(2000)\n",
    "danny.show_balance()\n",
    "danny.withdraw(100000)\n",
    "danny.withdraw(4000)\n",
    "danny.show_balance()\n",
    "danny.show_other_balance()\n",
    "danny.other_deposit(4000)\n",
    "danny.show_other_balance()\n",
    "danny.show_balance()"
   ]
  },
  {
   "cell_type": "code",
   "execution_count": 7,
   "metadata": {},
   "outputs": [
    {
     "name": "stdout",
     "output_type": "stream",
     "text": [
      "Prime numbers: [2, 3, 5, 7, 11, 13, 17, 19, 23, 29, 31]\n"
     ]
    }
   ],
   "source": [
    "def is_prime(n):\n",
    "    if n < 2:\n",
    "        return None\n",
    "    return all(n % i != 0 for i in range(2, int(n**0.5) + 1))\n",
    "\n",
    "numbers = [2, 3, 4, 5, 6, 7, 8, 9, 10, 11, 13, 15, 17, 19, 23, 24, 29, 31]\n",
    "prime_numbers = list(filter(lambda x: is_prime(x), numbers))\n",
    "print(\"Prime numbers:\", prime_numbers)\n"
   ]
  },
  {
   "cell_type": "code",
   "execution_count": 8,
   "metadata": {},
   "outputs": [
    {
     "name": "stdout",
     "output_type": "stream",
     "text": [
      "652.0390313\n"
     ]
    }
   ],
   "source": [
    "def switcher(grams):\n",
    "    return 28.3495231 * grams\n",
    "\n",
    "x=23\n",
    "print(switcher(x))"
   ]
  },
  {
   "cell_type": "code",
   "execution_count": 9,
   "metadata": {},
   "outputs": [
    {
     "name": "stdout",
     "output_type": "stream",
     "text": [
      "-11.11111111111111\n"
     ]
    }
   ],
   "source": [
    "def switcher_for_C(F):\n",
    "    print(float(5/9) * float(F-32))\n",
    "switcher_for_C(12)"
   ]
  },
  {
   "cell_type": "code",
   "execution_count": 10,
   "metadata": {},
   "outputs": [
    {
     "name": "stdout",
     "output_type": "stream",
     "text": [
      "rabbits : 12 \n",
      "chikens : 23\n"
     ]
    }
   ],
   "source": [
    "def solve(numheads, numlegs):\n",
    "    for i in range(numheads,0,-1):\n",
    "        if((i*4 + (numheads-i)*2)==numlegs):\n",
    "            print(\"rabbits :\",i,\"\\n\"+\"chikens :\",numheads-i)\n",
    "            break\n",
    "    \n",
    "solve(35,94)"
   ]
  },
  {
   "cell_type": "code",
   "execution_count": 12,
   "metadata": {},
   "outputs": [
    {
     "name": "stdout",
     "output_type": "stream",
     "text": [
      "Prime numbers: [2, 3, 5, 7]\n"
     ]
    }
   ],
   "source": [
    "def filter_prime(numbers):\n",
    "    def prime(number):\n",
    "        if number<2:\n",
    "            return None\n",
    "        for i in range(2,int(number**0.5)+1):\n",
    "            if number % i==0:\n",
    "                return False\n",
    "        return True\n",
    "    return [num for num in numbers if prime(num)]\n",
    "\n",
    "\n",
    "\n",
    "\n",
    "input_numbers=list(map(int,input().split()))\n",
    "prime_numbers=filter_prime(input_numbers)\n",
    "print(\"Prime numbers:\", prime_numbers)"
   ]
  },
  {
   "cell_type": "code",
   "execution_count": 13,
   "metadata": {},
   "outputs": [
    {
     "name": "stdout",
     "output_type": "stream",
     "text": [
      "('k', 'b', 't', 'u')\n",
      "('k', 'b', 'u', 't')\n",
      "('k', 't', 'b', 'u')\n",
      "('k', 't', 'u', 'b')\n",
      "('k', 'u', 'b', 't')\n",
      "('k', 'u', 't', 'b')\n",
      "('b', 'k', 't', 'u')\n",
      "('b', 'k', 'u', 't')\n",
      "('b', 't', 'k', 'u')\n",
      "('b', 't', 'u', 'k')\n",
      "('b', 'u', 'k', 't')\n",
      "('b', 'u', 't', 'k')\n",
      "('t', 'k', 'b', 'u')\n",
      "('t', 'k', 'u', 'b')\n",
      "('t', 'b', 'k', 'u')\n",
      "('t', 'b', 'u', 'k')\n",
      "('t', 'u', 'k', 'b')\n",
      "('t', 'u', 'b', 'k')\n",
      "('u', 'k', 'b', 't')\n",
      "('u', 'k', 't', 'b')\n",
      "('u', 'b', 'k', 't')\n",
      "('u', 'b', 't', 'k')\n",
      "('u', 't', 'k', 'b')\n",
      "('u', 't', 'b', 'k')\n"
     ]
    }
   ],
   "source": [
    "from itertools import permutations \n",
    " \n",
    "string=input()\n",
    "perm = permutations(string) \n",
    "\n",
    "for i in list(perm): \n",
    "    print (i) "
   ]
  },
  {
   "cell_type": "code",
   "execution_count": 15,
   "metadata": {},
   "outputs": [
    {
     "name": "stdout",
     "output_type": "stream",
     "text": [
      "python pp2 "
     ]
    }
   ],
   "source": [
    "def naoborot(slov):\n",
    "    for i in slova[::-1]:\n",
    "        print(i,end=' ')\n",
    "\n",
    "\n",
    "slova=list(map(str,input().split()))\n",
    "naoborot(slova)"
   ]
  },
  {
   "cell_type": "code",
   "execution_count": 16,
   "metadata": {},
   "outputs": [
    {
     "name": "stdout",
     "output_type": "stream",
     "text": [
      "True\n",
      "False\n",
      "False\n"
     ]
    }
   ],
   "source": [
    "def has_33(nums):\n",
    "    for i in range(len(nums)-1):\n",
    "        if nums[i]==3:\n",
    "            if nums[i+1]==3:\n",
    "                print(\"True\")\n",
    "                return 0\n",
    "    print(\"False\")\n",
    "has_33([1, 3, 3]) \n",
    "has_33([1, 3, 1, 3])\n",
    "has_33([3, 1, 3])"
   ]
  },
  {
   "cell_type": "code",
   "execution_count": 17,
   "metadata": {},
   "outputs": [
    {
     "name": "stdout",
     "output_type": "stream",
     "text": [
      "True\n",
      "False\n",
      "False\n"
     ]
    }
   ],
   "source": [
    "def spy_game(nums):\n",
    "    for i in range(len(nums)-2):\n",
    "        if nums[i]==0:\n",
    "            if nums[i+1]==0:\n",
    "                if nums[i+2]==7:\n",
    "                    print(\"True\")\n",
    "                    return 0\n",
    "    print(\"False\")\n",
    "\n",
    "spy_game([1,2,4,0,0,7,5]) \n",
    "spy_game([1,0,2,4,0,5,7]) \n",
    "spy_game([1,7,2,0,4,5,0]) "
   ]
  },
  {
   "cell_type": "code",
   "execution_count": 19,
   "metadata": {},
   "outputs": [
    {
     "name": "stdout",
     "output_type": "stream",
     "text": [
      "Sphere volume is: 113.03999999999999\n"
     ]
    }
   ],
   "source": [
    "def sphere_volume(r):\n",
    "    return ((4/3)*3.14*(r**3))\n",
    "\n",
    "radius=int(input())\n",
    "print(\"Sphere volume is:\",sphere_volume(radius))"
   ]
  },
  {
   "cell_type": "code",
   "execution_count": 20,
   "metadata": {},
   "outputs": [
    {
     "name": "stdout",
     "output_type": "stream",
     "text": [
      "[7, 8, 6, 5, 0, 1, 3]\n"
     ]
    }
   ],
   "source": [
    "def like_set(numbers):\n",
    "    lop=[]\n",
    "    for i in range(len(numbers)):\n",
    "        if numbers[i] not in lop:\n",
    "            lop.append(numbers[i])\n",
    "    return list(lop)\n",
    "\n",
    "unsorted_list=list(map(int,input().split()))\n",
    "print(like_set(unsorted_list))\n"
   ]
  },
  {
   "cell_type": "code",
   "execution_count": 21,
   "metadata": {},
   "outputs": [
    {
     "name": "stdout",
     "output_type": "stream",
     "text": [
      "True\n",
      "True\n",
      "False\n"
     ]
    }
   ],
   "source": [
    "def palindrome_string(soz):\n",
    "    i=0\n",
    "    j=len(soz)\n",
    "    while i!=j//2+1:\n",
    "        if soz[i]!=soz[j-1]:\n",
    "            return False\n",
    "        i+=1\n",
    "        j-=1\n",
    "    return True\n",
    "\n",
    "x=\"kazak\"\n",
    "y='appa'\n",
    "u='abaa'\n",
    "print(bool(palindrome_string(x)))\n",
    "print(bool(palindrome_string(y)))\n",
    "print(bool(palindrome_string(u)))"
   ]
  },
  {
   "cell_type": "code",
   "execution_count": 22,
   "metadata": {},
   "outputs": [
    {
     "name": "stdout",
     "output_type": "stream",
     "text": [
      "**\n",
      "*****\n",
      "******\n"
     ]
    }
   ],
   "source": [
    "def histogramm(numbers):\n",
    "    for i in range (len(numbers)):\n",
    "        print(numbers[i]*'*')\n",
    "\n",
    "lop=[2,5,6]\n",
    "histogramm(lop)"
   ]
  },
  {
   "cell_type": "code",
   "execution_count": null,
   "metadata": {},
   "outputs": [],
   "source": [
    "import random\n",
    "\n",
    "class game:\n",
    "    def __init__(self,name):\n",
    "        self.name=name\n",
    "        self.number=0\n",
    "        self.random_number=int(random.randint(1,20))\n",
    "        self.counter=0\n",
    "    def start(self):\n",
    "        print(\"Well,\",self.name,\"I am thinking of a number between 1 and 20\")\n",
    "        name.guess()\n",
    "    def guess(self):\n",
    "        print(\"Take a guess.\")\n",
    "        x=int(input())\n",
    "        self.counter+=1\n",
    "        name.pop(x)\n",
    "\n",
    "    def pop(self,another_number):\n",
    "        if(another_number==self.random_number):\n",
    "            print(\"Good job,\",self.name,\"! You guessed my number in \",self.counter,\"guesses!\")\n",
    "        elif(another_number>self.random_number):\n",
    "            print(\"Your guess is too high\")\n",
    "            name.guess()\n",
    "        else:\n",
    "            print(\"Your guess is too low\")\n",
    "            name.guess()\n",
    "print(\"Hello what is your name?\")\n",
    "name=game(input())\n",
    "name.start()"
   ]
  },
  {
   "cell_type": "code",
   "execution_count": 25,
   "metadata": {},
   "outputs": [
    {
     "name": "stdout",
     "output_type": "stream",
     "text": [
      "Hello from a function\n"
     ]
    }
   ],
   "source": [
    "def my_function():\n",
    "  print(\"Hello from a function\")\n",
    "my_function()"
   ]
  },
  {
   "cell_type": "code",
   "execution_count": 26,
   "metadata": {},
   "outputs": [
    {
     "name": "stdout",
     "output_type": "stream",
     "text": [
      "Emil Refsnes\n",
      "Tobias Refsnes\n",
      "Linus Refsnes\n"
     ]
    }
   ],
   "source": [
    "def my_function(fname):\n",
    "  print(fname + \" Refsnes\")\n",
    "\n",
    "my_function(\"Emil\")\n",
    "my_function(\"Tobias\")\n",
    "my_function(\"Linus\")"
   ]
  },
  {
   "cell_type": "code",
   "execution_count": 27,
   "metadata": {},
   "outputs": [
    {
     "name": "stdout",
     "output_type": "stream",
     "text": [
      "Emil Refsnes\n"
     ]
    }
   ],
   "source": [
    "def my_function(fname, lname):\n",
    "  print(fname + \" \" + lname)\n",
    "\n",
    "my_function(\"Emil\", \"Refsnes\")"
   ]
  },
  {
   "cell_type": "code",
   "execution_count": 28,
   "metadata": {},
   "outputs": [
    {
     "name": "stdout",
     "output_type": "stream",
     "text": [
      "The youngest child is Linus\n"
     ]
    }
   ],
   "source": [
    "def my_function(*kids):\n",
    "  print(\"The youngest child is \" + kids[2])\n",
    "\n",
    "my_function(\"Emil\", \"Tobias\", \"Linus\")"
   ]
  },
  {
   "cell_type": "code",
   "execution_count": 29,
   "metadata": {},
   "outputs": [
    {
     "name": "stdout",
     "output_type": "stream",
     "text": [
      "I am from Sweden\n",
      "I am from India\n",
      "I am from Norway\n",
      "I am from Brazil\n"
     ]
    }
   ],
   "source": [
    "def my_function(country = \"Norway\"):\n",
    "  print(\"I am from \" + country)\n",
    "\n",
    "my_function(\"Sweden\")\n",
    "my_function(\"India\")\n",
    "my_function()\n",
    "my_function(\"Brazil\")"
   ]
  },
  {
   "cell_type": "code",
   "execution_count": 30,
   "metadata": {},
   "outputs": [
    {
     "name": "stdout",
     "output_type": "stream",
     "text": [
      "26\n"
     ]
    }
   ],
   "source": [
    "def my_function(a, b, /, *, c, d):\n",
    "  print(a + b + c + d)\n",
    "\n",
    "my_function(5, 6, c = 7, d = 8)"
   ]
  },
  {
   "cell_type": "code",
   "execution_count": 31,
   "metadata": {},
   "outputs": [
    {
     "name": "stdout",
     "output_type": "stream",
     "text": [
      "Recursion Example Results:\n",
      "1\n",
      "3\n",
      "6\n",
      "10\n",
      "15\n",
      "21\n"
     ]
    },
    {
     "data": {
      "text/plain": [
       "21"
      ]
     },
     "execution_count": 31,
     "metadata": {},
     "output_type": "execute_result"
    }
   ],
   "source": [
    "def tri_recursion(k):\n",
    "  if(k > 0):\n",
    "    result = k + tri_recursion(k - 1)\n",
    "    print(result)\n",
    "  else:\n",
    "    result = 0\n",
    "  return result\n",
    "\n",
    "print(\"Recursion Example Results:\")\n",
    "tri_recursion(6)"
   ]
  },
  {
   "cell_type": "code",
   "execution_count": 32,
   "metadata": {},
   "outputs": [
    {
     "name": "stdout",
     "output_type": "stream",
     "text": [
      "33\n"
     ]
    }
   ],
   "source": [
    "def myfunc(n):\n",
    "  return lambda a : a * n\n",
    "\n",
    "mytripler = myfunc(3)\n",
    "\n",
    "print(mytripler(11))"
   ]
  },
  {
   "cell_type": "code",
   "execution_count": 33,
   "metadata": {},
   "outputs": [
    {
     "name": "stdout",
     "output_type": "stream",
     "text": [
      "22\n",
      "33\n"
     ]
    }
   ],
   "source": [
    "def myfunc(n):\n",
    "  return lambda a : a * n\n",
    "\n",
    "mydoubler = myfunc(2)\n",
    "mytripler = myfunc(3)\n",
    "\n",
    "print(mydoubler(11))\n",
    "print(mytripler(11))"
   ]
  },
  {
   "cell_type": "code",
   "execution_count": 34,
   "metadata": {},
   "outputs": [
    {
     "name": "stdout",
     "output_type": "stream",
     "text": [
      "John\n",
      "36\n"
     ]
    }
   ],
   "source": [
    "class Person:\n",
    "  def __init__(self, name, age):\n",
    "    self.name = name\n",
    "    self.age = age\n",
    "\n",
    "p1 = Person(\"John\", 36)\n",
    "\n",
    "print(p1.name)\n",
    "print(p1.age)"
   ]
  },
  {
   "cell_type": "code",
   "execution_count": 35,
   "metadata": {},
   "outputs": [
    {
     "name": "stdout",
     "output_type": "stream",
     "text": [
      "John(36)\n"
     ]
    }
   ],
   "source": [
    "class Person:\n",
    "  def __init__(self, name, age):\n",
    "    self.name = name\n",
    "    self.age = age\n",
    "\n",
    "  def __str__(self):\n",
    "    return f\"{self.name}({self.age})\"\n",
    "\n",
    "p1 = Person(\"John\", 36)\n",
    "\n",
    "print(p1)"
   ]
  },
  {
   "cell_type": "code",
   "execution_count": 36,
   "metadata": {},
   "outputs": [
    {
     "name": "stdout",
     "output_type": "stream",
     "text": [
      "John Doe\n"
     ]
    }
   ],
   "source": [
    "class Person:\n",
    "  def __init__(self, fname, lname):\n",
    "    self.firstname = fname\n",
    "    self.lastname = lname\n",
    "\n",
    "  def printname(self):\n",
    "    print(self.firstname, self.lastname)\n",
    "\n",
    "#Use the Person class to create an object, and then execute the printname method:\n",
    "\n",
    "x = Person(\"John\", \"Doe\")\n",
    "x.printname()"
   ]
  },
  {
   "cell_type": "code",
   "execution_count": 37,
   "metadata": {},
   "outputs": [
    {
     "name": "stdout",
     "output_type": "stream",
     "text": [
      "Movies wth IMDB above 5.5:\n",
      "Usual Suspects\n",
      "Hitman\n",
      "Dark Knight\n",
      "The Help\n",
      "The Choice\n",
      "Colonia\n",
      "Love\n",
      "Joking muck\n",
      "What is the name\n",
      "Detective\n",
      "We Two\n",
      "The Choice 6.2\n",
      "Colonia 7.4\n",
      "Love 6.0\n",
      "Bride Wars 5.4\n",
      "We Two 7.2\n",
      "\n",
      "Average IMDB score for all movies: 6.49\n",
      "The Choice 6.2\n",
      "Colonia 7.4\n",
      "Love 6.0\n",
      "Bride Wars 5.4\n",
      "We Two 7.2\n",
      "Average IMDB score for Romance movies: 0.00\n"
     ]
    }
   ],
   "source": [
    "# List of movie dictionaries\n",
    "movies = [\n",
    "    {\n",
    "        \"name\": \"Usual Suspects\", \n",
    "        \"imdb\": 7.0,\n",
    "        \"category\": \"Thriller\"\n",
    "    },\n",
    "    {\n",
    "        \"name\": \"Hitman\",\n",
    "        \"imdb\": 6.3,\n",
    "        \"category\": \"Action\"\n",
    "    },\n",
    "    {\n",
    "        \"name\": \"Dark Knight\",\n",
    "        \"imdb\": 9.0,\n",
    "        \"category\": \"Adventure\"\n",
    "    },\n",
    "    {\n",
    "        \"name\": \"The Help\",\n",
    "        \"imdb\": 8.0,\n",
    "        \"category\": \"Drama\"\n",
    "    },\n",
    "    {\n",
    "        \"name\": \"The Choice\",\n",
    "        \"imdb\": 6.2,\n",
    "        \"category\": \"Romance\"\n",
    "    },\n",
    "    {\n",
    "        \"name\": \"Colonia\",\n",
    "        \"imdb\": 7.4,\n",
    "        \"category\": \"Romance\"\n",
    "    },\n",
    "    {\n",
    "        \"name\": \"Love\",\n",
    "        \"imdb\": 6.0,\n",
    "        \"category\": \"Romance\"\n",
    "    },\n",
    "    {\n",
    "        \"name\": \"Bride Wars\",\n",
    "        \"imdb\": 5.4,\n",
    "        \"category\": \"Romance\"\n",
    "    },\n",
    "    {\n",
    "        \"name\": \"AlphaJet\",\n",
    "        \"imdb\": 3.2,\n",
    "        \"category\": \"War\"\n",
    "    },\n",
    "    {\n",
    "        \"name\": \"Ringing Crime\",\n",
    "        \"imdb\": 4.0,\n",
    "        \"category\": \"Crime\"\n",
    "    },\n",
    "    {\n",
    "        \"name\": \"Joking muck\",\n",
    "        \"imdb\": 7.2,\n",
    "        \"category\": \"Comedy\"\n",
    "    },\n",
    "    {\n",
    "        \"name\": \"What is the name\",\n",
    "        \"imdb\": 9.2,\n",
    "        \"category\": \"Suspense\"\n",
    "    },\n",
    "    {\n",
    "        \"name\": \"Detective\",\n",
    "        \"imdb\": 7.0,\n",
    "        \"category\": \"Suspense\"\n",
    "    },\n",
    "    {\n",
    "        \"name\": \"Exam\",\n",
    "        \"imdb\": 4.2,\n",
    "        \"category\": \"Thriller\"\n",
    "    },\n",
    "    {\n",
    "        \"name\": \"We Two\",\n",
    "        \"imdb\": 7.2,\n",
    "        \"category\": \"Romance\"\n",
    "    }\n",
    "]\n",
    "\n",
    "def is_good_movie(movie):\n",
    "    return movie.get(\"imdb\", 0) > 5.5\n",
    "\n",
    "def get_movies_with_imdb_above(movies, threshold=5.5):\n",
    "    for i in range (len(movies)):\n",
    "        if(movies[i].get(\"imdb\")>threshold):\n",
    "            print(movies[i][\"name\"])\n",
    "\n",
    "def get_movies_by_category(movies, category):\n",
    "    for i in range (len(movies)):\n",
    "        if(movies[i].get(\"category\")==category):\n",
    "            print(movies[i][\"name\"],movies[i][\"imdb\"])\n",
    "def get_average_imdb(movies):\n",
    "    if not movies:\n",
    "        return 0\n",
    "    total_score = sum(movie.get(\"imdb\", 0) for movie in movies)\n",
    "    return total_score / len(movies)\n",
    "\n",
    "def get_average_imdb_by_category(movies, category):\n",
    "    category_movies = get_movies_by_category(movies, category)\n",
    "    return get_average_imdb(category_movies)\n",
    "\n",
    "print(\"Movies wth IMDB above 5.5:\")\n",
    "get_movies_with_imdb_above(movies)\n",
    "get_movies_by_category(movies,\"Romance\")\n",
    "avg_imdb = get_average_imdb(movies)\n",
    "print(f\"\\nAverage IMDB score for all movies: {avg_imdb:.2f}\")\n",
    "avg_romance_imdb = get_average_imdb_by_category(movies, \"Romance\")\n",
    "print(f\"Average IMDB score for Romance movies: {avg_romance_imdb:.2f}\")"
   ]
  }
 ],
 "metadata": {
  "kernelspec": {
   "display_name": "Python 3",
   "language": "python",
   "name": "python3"
  },
  "language_info": {
   "codemirror_mode": {
    "name": "ipython",
    "version": 3
   },
   "file_extension": ".py",
   "mimetype": "text/x-python",
   "name": "python",
   "nbconvert_exporter": "python",
   "pygments_lexer": "ipython3",
   "version": "3.10.4"
  }
 },
 "nbformat": 4,
 "nbformat_minor": 2
}

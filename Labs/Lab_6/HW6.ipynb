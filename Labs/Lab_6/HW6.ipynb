{
 "cells": [
  {
   "cell_type": "code",
   "execution_count": 9,
   "metadata": {},
   "outputs": [
    {
     "name": "stdout",
     "output_type": "stream",
     "text": [
      "The sum: 120\n"
     ]
    }
   ],
   "source": [
    "list = [1, 2, 3, 4, 5]\n",
    "sum = 1\n",
    "for i in range(1, len(list)):\n",
    "    sum *= list[i]\n",
    "print(\"The sum:\", sum)"
   ]
  },
  {
   "cell_type": "code",
   "execution_count": 10,
   "metadata": {},
   "outputs": [
    {
     "name": "stdout",
     "output_type": "stream",
     "text": [
      "Upper cases: 6\n",
      "Lower cases: 3\n"
     ]
    }
   ],
   "source": [
    "str = \"I Love KBTU\"\n",
    "Upper = 0\n",
    "Lower = 0\n",
    "for i in range(len(str)):\n",
    "    if(str[i].isupper()):\n",
    "        Upper += 1\n",
    "    if(str[i].islower()):\n",
    "        Lower += 1\n",
    "print(\"Upper cases:\", Upper)\n",
    "print(\"Lower cases:\", Lower)"
   ]
  },
  {
   "cell_type": "code",
   "execution_count": 14,
   "metadata": {},
   "outputs": [
    {
     "name": "stdout",
     "output_type": "stream",
     "text": [
      "This word is polyndrom\n"
     ]
    }
   ],
   "source": [
    "def polyndrom(a):\n",
    "    return a[::-1]\n",
    "\n",
    "word = input()\n",
    "if(word == polyndrom(word)):\n",
    "    print(\"This word is polyndrom\")\n",
    "else:\n",
    "    print(\"This word is not polyndrom\")"
   ]
  },
  {
   "cell_type": "code",
   "execution_count": 2,
   "metadata": {},
   "outputs": [
    {
     "name": "stdout",
     "output_type": "stream",
     "text": [
      "Square root of 25100 after 2123 milliseconds is 158.42979517754858\n"
     ]
    }
   ],
   "source": [
    "import math\n",
    "def SquareRoot(number, time):\n",
    "    sq = math.sqrt(number)\n",
    "    print(f\"Square root of {number} after {time} milliseconds is {sq}\")\n",
    "\n",
    "number = int(input())\n",
    "time = int(input())\n",
    "\n",
    "SquareRoot(number, time)"
   ]
  },
  {
   "cell_type": "code",
   "execution_count": 3,
   "metadata": {},
   "outputs": [
    {
     "name": "stdout",
     "output_type": "stream",
     "text": [
      "False\n"
     ]
    }
   ],
   "source": [
    "mytuple = (0, True, False)\n",
    "x = all(mytuple)\n",
    "print(x)"
   ]
  }
 ],
 "metadata": {
  "kernelspec": {
   "display_name": "Python 3",
   "language": "python",
   "name": "python3"
  },
  "language_info": {
   "codemirror_mode": {
    "name": "ipython",
    "version": 3
   },
   "file_extension": ".py",
   "mimetype": "text/x-python",
   "name": "python",
   "nbconvert_exporter": "python",
   "pygments_lexer": "ipython3",
   "version": "3.10.4"
  }
 },
 "nbformat": 4,
 "nbformat_minor": 2
}

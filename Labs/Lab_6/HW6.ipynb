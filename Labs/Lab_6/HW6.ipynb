{
 "cells": [
  {
   "cell_type": "code",
   "execution_count": 1,
   "metadata": {},
   "outputs": [
    {
     "name": "stdout",
     "output_type": "stream",
     "text": [
      "120\n"
     ]
    }
   ],
   "source": [
    "import math\n",
    "numbers = [1,2,3,4,5]\n",
    "result = math.prod(numbers)\n",
    "print(result)"
   ]
  },
  {
   "cell_type": "code",
   "execution_count": null,
   "metadata": {},
   "outputs": [
    {
     "name": "stdout",
     "output_type": "stream",
     "text": [
      "(11, 14)\n"
     ]
    }
   ],
   "source": [
    "def count_upper_lower(s):\n",
    "    upper_count = sum(1 for char in s if char.isupper())\n",
    "    lower_count = sum(1 for char in s if char.islower())\n",
    "    return upper_count, lower_count\n",
    "\n",
    "text = input()\n",
    "upper, lower = count_upper_lower(text)\n",
    "print(\"Upper:\", upper)\n",
    "print(\"Lower:\", lower)"
   ]
  },
  {
   "cell_type": "code",
   "execution_count": null,
   "metadata": {},
   "outputs": [
    {
     "name": "stdout",
     "output_type": "stream",
     "text": [
      "This word is polyndrom\n"
     ]
    }
   ],
   "source": [
    "str = input()\n",
    "a = str == str[::-1]\n",
    "print(\"Is palindrome:\", a)"
   ]
  },
  {
   "cell_type": "code",
   "execution_count": 2,
   "metadata": {},
   "outputs": [
    {
     "name": "stdout",
     "output_type": "stream",
     "text": [
      "Square root of 25100 after 2123 milliseconds is 158.42979517754858\n"
     ]
    }
   ],
   "source": [
    "import math\n",
    "def SquareRoot(number, time):\n",
    "    sq = math.sqrt(number)\n",
    "    print(f\"Square root of {number} after {time} milliseconds is {sq}\")\n",
    "\n",
    "number = int(input())\n",
    "time = int(input())\n",
    "\n",
    "SquareRoot(number, time)"
   ]
  },
  {
   "cell_type": "code",
   "execution_count": 3,
   "metadata": {},
   "outputs": [
    {
     "name": "stdout",
     "output_type": "stream",
     "text": [
      "False\n"
     ]
    }
   ],
   "source": [
    "mytuple = (0, True, False)\n",
    "x = all(mytuple)\n",
    "print(x)"
   ]
  },
  {
   "cell_type": "code",
   "execution_count": 4,
   "metadata": {},
   "outputs": [
    {
     "name": "stdout",
     "output_type": "stream",
     "text": [
      "Directories: []\n",
      "Files: ['HW6.ipynb']\n",
      "All items: ['HW6.ipynb']\n"
     ]
    }
   ],
   "source": [
    "import os\n",
    "path = \".\"\n",
    "directories = [d for d in os.listdir(path) if os.path.isdir(os.path.join(path, d))]\n",
    "files = [f for f in os.listdir(path) if os.path.isfile(os.path.join(path, f))]\n",
    "all_items = os.listdir(path)\n",
    "print(\"Directories:\", directories)\n",
    "print(\"Files:\", files)\n",
    "print(\"All items:\", all_items)"
   ]
  },
  {
   "cell_type": "code",
   "execution_count": 5,
   "metadata": {},
   "outputs": [
    {
     "name": "stdout",
     "output_type": "stream",
     "text": [
      "Path exists: True\n",
      "Path is readable: True\n",
      "Path is writable: True\n",
      "Path is executable: True\n"
     ]
    }
   ],
   "source": [
    "path = \".\" \n",
    "\n",
    "exists = os.path.exists(path)\n",
    "readable = os.access(path, os.R_OK)\n",
    "writable = os.access(path, os.W_OK)\n",
    "executable = os.access(path, os.X_OK)\n",
    "\n",
    "print(\"Path exists:\", exists)\n",
    "print(\"Path is readable:\", readable)\n",
    "print(\"Path is writable:\", writable)\n",
    "print(\"Path is executable:\", executable)\n"
   ]
  },
  {
   "cell_type": "code",
   "execution_count": 9,
   "metadata": {},
   "outputs": [
    {
     "name": "stdout",
     "output_type": "stream",
     "text": [
      "Path exists.\n",
      "Directory portion: \n",
      "Filename portion: HW6.ipynb\n"
     ]
    }
   ],
   "source": [
    "path = \"HW6.ipynb\"\n",
    "\n",
    "if os.path.exists(path):\n",
    "    print(\"Path exists.\")\n",
    "    print(\"Directory portion:\", os.path.dirname(path))\n",
    "    print(\"Filename portion:\", os.path.basename(path))\n",
    "else:\n",
    "    print(\"Path does not exist.\")"
   ]
  },
  {
   "cell_type": "code",
   "execution_count": 11,
   "metadata": {},
   "outputs": [
    {
     "name": "stdout",
     "output_type": "stream",
     "text": [
      "Number of lines in the file: 5\n"
     ]
    }
   ],
   "source": [
    "path = \"ex.txt\"  \n",
    "if os.path.exists(path):\n",
    "    with open(path, \"r\") as file:\n",
    "        line_count = sum(1 for line in file)\n",
    "    print(\"Number of lines in the file:\", line_count)\n",
    "else:\n",
    "    print(\"File does not exist.\")"
   ]
  },
  {
   "cell_type": "code",
   "execution_count": 12,
   "metadata": {},
   "outputs": [
    {
     "name": "stdout",
     "output_type": "stream",
     "text": [
      "List has been written to the file.\n"
     ]
    }
   ],
   "source": [
    "path = \"ex.txt\" \n",
    "\n",
    "my_list = [\"apple\", \"banana\", \"cherry\"]\n",
    "\n",
    "with open(path, \"w\") as file:\n",
    "    for item in my_list:\n",
    "        file.write(item + \"\\n\")\n",
    "\n",
    "print(\"List has been written to the file.\")"
   ]
  },
  {
   "cell_type": "code",
   "execution_count": 13,
   "metadata": {},
   "outputs": [
    {
     "name": "stdout",
     "output_type": "stream",
     "text": [
      "26 text files (A.txt to Z.txt) have been created.\n"
     ]
    }
   ],
   "source": [
    "import string\n",
    "\n",
    "for letter in string.ascii_uppercase:\n",
    "    filename = f\"{letter}.txt\"\n",
    "    with open(filename, \"w\") as file:\n",
    "        file.write(f\"This is file {filename}\\n\")\n",
    "\n",
    "print(\"26 text files (A.txt to Z.txt) have been created.\")"
   ]
  },
  {
   "cell_type": "code",
   "execution_count": 15,
   "metadata": {},
   "outputs": [
    {
     "name": "stdout",
     "output_type": "stream",
     "text": [
      "Contents of ex.txt have been copied to destination.txt.\n"
     ]
    }
   ],
   "source": [
    "import shutil\n",
    "\n",
    "source_file = \"ex.txt\"\n",
    "destination_file = \"destination.txt\"\n",
    "\n",
    "if os.path.exists(source_file):\n",
    "    shutil.copy(source_file, destination_file)\n",
    "    print(f\"Contents of {source_file} have been copied to {destination_file}.\")\n",
    "else:\n",
    "    print(f\"Error: {source_file} does not exist.\")"
   ]
  },
  {
   "cell_type": "code",
   "execution_count": 16,
   "metadata": {},
   "outputs": [
    {
     "name": "stdout",
     "output_type": "stream",
     "text": [
      "File destination.txt has been deleted.\n"
     ]
    }
   ],
   "source": [
    "file_path = \"destination.txt\"  \n",
    "if os.path.exists(file_path) and os.access(file_path, os.W_OK):\n",
    "    os.remove(file_path)\n",
    "    print(f\"File {file_path} has been deleted.\")\n",
    "else:\n",
    "    print(f\"Error: File {file_path} does not exist or is not writable.\")"
   ]
  }
 ],
 "metadata": {
  "kernelspec": {
   "display_name": "Python 3",
   "language": "python",
   "name": "python3"
  },
  "language_info": {
   "codemirror_mode": {
    "name": "ipython",
    "version": 3
   },
   "file_extension": ".py",
   "mimetype": "text/x-python",
   "name": "python",
   "nbconvert_exporter": "python",
   "pygments_lexer": "ipython3",
   "version": "3.10.4"
  }
 },
 "nbformat": 4,
 "nbformat_minor": 2
}
